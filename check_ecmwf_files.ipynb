{
 "cells": [
  {
   "cell_type": "code",
   "execution_count": 1,
   "id": "2ed49de8-1522-4966-b6ea-81ee0a55a0bb",
   "metadata": {},
   "outputs": [],
   "source": [
    "import numpy as np\n",
    "import os\n",
    "import pandas as pd \n",
    "import sys"
   ]
  },
  {
   "cell_type": "markdown",
   "id": "cb74ad81-af5c-4e0d-9a70-2847a885a07a",
   "metadata": {},
   "source": [
    "#### delete member 26-51 before 2017"
   ]
  },
  {
   "cell_type": "code",
   "execution_count": 3,
   "id": "52d02d07-da34-4b3a-bd37-3f98c8bdac76",
   "metadata": {},
   "outputs": [],
   "source": [
    "dir_o = '/glade/campaign/mmm/c3we/ECMWF/'\n",
    "\n",
    "month_s = ['April', 'May', 'June', 'July', 'Aug', 'Sept', 'Oct']\n",
    "month_1d = ['04',   '05',   '06',   '07',  '08',  '09',   '10']\n",
    "n_month = len(month_1d)\n",
    "mem_1d = np.arange(26, 52)\n",
    "\n",
    "for nm in range(n_month):\n",
    "    for year in np.arange(1981, 2017):\n",
    "        yyyymm = str(year) + month_1d[nm]\n",
    "        path_t = dir_o + yyyymm + '/qall_GDS0_ISBL/'\n",
    "        \n",
    "        for mem in mem_1d:\n",
    "            flnm_o = dir_o + yyyymm + '/qall_GDS0_ISBL/q850_day_ECMWF_mem' + str(mem).zfill(2) + '_'+ yyyymm + '.nc'\n",
    "            isExist = os.path.exists(flnm_o) \n",
    "            if isExist:\n",
    "                os.system('rm ' + flnm_o)\n",
    "                print('remove', flnm_o)"
   ]
  },
  {
   "cell_type": "markdown",
   "id": "64d367da-a1c6-4ea3-aba3-71aa8c172610",
   "metadata": {},
   "source": [
    "#### check the datasets"
   ]
  },
  {
   "cell_type": "code",
   "execution_count": 6,
   "id": "d190e845-cd56-465e-8722-a9dc58ef80eb",
   "metadata": {},
   "outputs": [
    {
     "name": "stdout",
     "output_type": "stream",
     "text": [
      "check finished\n"
     ]
    }
   ],
   "source": [
    "year_s = 1981\n",
    "year_e = 2023\n",
    "year_51 = 2017\n",
    "\n",
    "for nm in range(n_month):\n",
    "    for year in np.arange(year_s, year_e + 1):\n",
    "        yyyymm = str(year) + month_1d[nm]\n",
    "        path_t = dir_o + yyyymm + '/qall_GDS0_ISBL/'\n",
    "        if year > year_51:\n",
    "            mem_1d = np.arange(1, 52)\n",
    "        else:\n",
    "           mem_1d = np.arange(1, 26) \n",
    "        for mem in mem_1d:\n",
    "            flnm_o = dir_o + yyyymm + '/qall_GDS0_ISBL/q850_day_ECMWF_mem' + str(mem).zfill(2) + '_'+ yyyymm + '.nc'\n",
    "            isExist = os.path.exists(flnm_o) \n",
    "            if not isExist:\n",
    "                #os.system('rm ' + flnm_o)\n",
    "                print(' non existence ', flnm_o)\n",
    "print('check finished')"
   ]
  },
  {
   "cell_type": "code",
   "execution_count": null,
   "id": "d1205ebf-bc76-4f3d-a2a3-3f088b81c77b",
   "metadata": {},
   "outputs": [],
   "source": []
  }
 ],
 "metadata": {
  "kernelspec": {
   "display_name": "Python [conda env:miniforge3-casper_2023]",
   "language": "python",
   "name": "conda-env-miniforge3-casper_2023-py"
  },
  "language_info": {
   "codemirror_mode": {
    "name": "ipython",
    "version": 3
   },
   "file_extension": ".py",
   "mimetype": "text/x-python",
   "name": "python",
   "nbconvert_exporter": "python",
   "pygments_lexer": "ipython3",
   "version": "3.10.12"
  }
 },
 "nbformat": 4,
 "nbformat_minor": 5
}
